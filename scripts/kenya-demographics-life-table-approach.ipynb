{
 "cells": [
  {
   "cell_type": "code",
   "execution_count": 1,
   "metadata": {},
   "outputs": [
    {
     "name": "stderr",
     "output_type": "stream",
     "text": [
      "/Users/ocsicnarf/Library/Enthought/Canopy_64bit/User/lib/python2.7/site-packages/pandas/io/excel.py:626: UserWarning: Installed openpyxl is not supported at this time. Use >=1.6.1 and <2.0.0.\n",
      "  .format(openpyxl_compat.start_ver, openpyxl_compat.stop_ver))\n"
     ]
    }
   ],
   "source": [
    "import numpy as np\n",
    "import pandas as pd\n",
    "import palettable\n",
    "import matplotlib as mpl\n",
    "import matplotlib.pyplot as plt\n",
    "from plotting_utils import set_mpl_defaults, remove_spines, save_figure"
   ]
  },
  {
   "cell_type": "code",
   "execution_count": 2,
   "metadata": {},
   "outputs": [],
   "source": [
    "%matplotlib inline\n",
    "set_mpl_defaults(mpl)\n",
    "set1_colors     = palettable.colorbrewer.qualitative.Set1_9.mpl_colors\n",
    "dark2_colors    = palettable.colorbrewer.qualitative.Dark2_8.mpl_colors\n",
    "paired12_colors = palettable.colorbrewer.qualitative.Paired_12.mpl_colors"
   ]
  },
  {
   "cell_type": "code",
   "execution_count": 3,
   "metadata": {},
   "outputs": [
    {
     "data": {
      "text/plain": [
       "array(['Indicator', 'nMx - age-specific death rate between ages x and x+n',\n",
       "       'nqx - probability of dying between ages x and x+n',\n",
       "       'lx - number of people left alive at age x',\n",
       "       'ndx - number of people dying between ages x and x+n',\n",
       "       'nLx - person-years lived between ages x and x+n',\n",
       "       'Tx - person-years lived above age x',\n",
       "       'ex - expectation of life at age x'], dtype=object)"
      ]
     },
     "execution_count": 3,
     "metadata": {},
     "output_type": "execute_result"
    }
   ],
   "source": [
    "kenya = pd.read_csv(\"kenya-life-table.csv\")\n",
    "kenya.ix[:,0].unique()"
   ]
  },
  {
   "cell_type": "markdown",
   "metadata": {},
   "source": [
    "Get $l_x$, the number of people left alive at age x (start of interval)"
   ]
  },
  {
   "cell_type": "code",
   "execution_count": 6,
   "metadata": {},
   "outputs": [],
   "source": [
    "rows = kenya.ix[:,0].apply(lambda s: s.startswith('lx'))\n",
    "#lx = kenya.ix[rows, (1, 2, 3)] # columns 2 and 3 are 2013 females and males\n",
    "lx = kenya.ix[rows, (1, 8, 9)] # columns 8 and 9 are 1990 females and males\n",
    "lx.reset_index(drop=True, inplace=True)"
   ]
  },
  {
   "cell_type": "markdown",
   "metadata": {},
   "source": [
    "Get start of intervals"
   ]
  },
  {
   "cell_type": "code",
   "execution_count": 7,
   "metadata": {},
   "outputs": [],
   "source": [
    "lx.ix[:,0] = lx.ix[:,0].str.extract('(\\d+)')\n",
    "lx.ix[0,0] = 0"
   ]
  },
  {
   "cell_type": "markdown",
   "metadata": {},
   "source": [
    "Tidy up"
   ]
  },
  {
   "cell_type": "code",
   "execution_count": 8,
   "metadata": {},
   "outputs": [],
   "source": [
    "lx = lx.convert_objects(convert_numeric=True)\n",
    "lx.columns = ['age', 'males', 'females']"
   ]
  },
  {
   "cell_type": "markdown",
   "metadata": {},
   "source": [
    "Add missing ages, with missing values for $l_x$"
   ]
  },
  {
   "cell_type": "code",
   "execution_count": 9,
   "metadata": {},
   "outputs": [],
   "source": [
    "for a in range(int(lx.age.max())):\n",
    "    if a not in lx.age.values:\n",
    "        lx.loc[len(lx)] = [a, np.nan, np.nan]"
   ]
  },
  {
   "cell_type": "markdown",
   "metadata": {},
   "source": [
    "Sort by age"
   ]
  },
  {
   "cell_type": "code",
   "execution_count": 10,
   "metadata": {},
   "outputs": [],
   "source": [
    "lx.sort(columns='age', inplace=True)\n",
    "lx.reset_index(inplace=True, drop=True)"
   ]
  },
  {
   "cell_type": "markdown",
   "metadata": {},
   "source": [
    "Interpolate values"
   ]
  },
  {
   "cell_type": "code",
   "execution_count": 11,
   "metadata": {},
   "outputs": [],
   "source": [
    "lx.males.interpolate(method='linear', inplace=True)\n",
    "lx.females.interpolate(method='linear', inplace=True)"
   ]
  },
  {
   "cell_type": "markdown",
   "metadata": {},
   "source": [
    "Add deaths that occured in \"x\"-th year of life"
   ]
  },
  {
   "cell_type": "code",
   "execution_count": 12,
   "metadata": {},
   "outputs": [],
   "source": [
    "lx['total'] = lx.males + lx.females\n",
    "lx['deaths'] = lx.total.diff(-1)"
   ]
  },
  {
   "cell_type": "markdown",
   "metadata": {},
   "source": [
    "Assume everyone in the last age dies that year."
   ]
  },
  {
   "cell_type": "code",
   "execution_count": 13,
   "metadata": {},
   "outputs": [],
   "source": [
    "lx.ix[len(lx) - 1, 'deaths'] = lx.ix[len(lx) - 1, 'total']"
   ]
  },
  {
   "cell_type": "markdown",
   "metadata": {},
   "source": [
    "Check that everyone dies"
   ]
  },
  {
   "cell_type": "code",
   "execution_count": 14,
   "metadata": {},
   "outputs": [
    {
     "name": "stdout",
     "output_type": "stream",
     "text": [
      "total born: 200000.0\n",
      "total deaths: 200000.0\n"
     ]
    }
   ],
   "source": [
    "print \"total born:\", lx.ix[0, 'total']\n",
    "print \"total deaths:\", sum(lx.deaths)"
   ]
  },
  {
   "cell_type": "markdown",
   "metadata": {},
   "source": [
    "Probability lifespan is _x_ years is just proportion of deaths occuring at age _x_."
   ]
  },
  {
   "cell_type": "code",
   "execution_count": 15,
   "metadata": {},
   "outputs": [],
   "source": [
    "total_born = lx.ix[0, 'total']\n",
    "lx['lifespan_pmf'] = lx.deaths / total_born"
   ]
  },
  {
   "cell_type": "markdown",
   "metadata": {},
   "source": [
    "Check out the lifespan distribution"
   ]
  },
  {
   "cell_type": "code",
   "execution_count": 25,
   "metadata": {},
   "outputs": [
    {
     "data": {
      "image/png": "[encoded data removed]",
      "text/plain": [
       "<matplotlib.figure.Figure at 0x106cc1590>"
      ]
     },
     "metadata": {},
     "output_type": "display_data"
    }
   ],
   "source": [
    "fig, axes = plt.subplots(1, 2, figsize=(16, 4))\n",
    "ax = axes[0]\n",
    "ax.plot(lx.total)\n",
    "ax.set_ylabel('Surviving to age a')\n",
    "ax.set_xlabel('Age')\n",
    "remove_spines(ax)\n",
    "\n",
    "ax = axes[1]\n",
    "ax.plot(lx.lifespan_pmf)\n",
    "ax.set_ylabel('Probability')\n",
    "ax.set_xlabel('Lifespan')\n",
    "remove_spines(ax)\n",
    "fig.tight_layout()\n",
    "#save_figure(fig, \"kenya-lifespan\")"
   ]
  },
  {
   "cell_type": "markdown",
   "metadata": {},
   "source": [
    "Check life expectancy (should be around 61.08 for 2012, 59.12 for 1990, according to Google)"
   ]
  },
  {
   "cell_type": "code",
   "execution_count": 20,
   "metadata": {},
   "outputs": [
    {
     "name": "stdout",
     "output_type": "stream",
     "text": [
      "life expectancy 59.6212705\n"
     ]
    }
   ],
   "source": [
    "print 'life expectancy', (lx.lifespan_pmf * lx.age).sum()"
   ]
  },
  {
   "cell_type": "markdown",
   "metadata": {},
   "source": [
    "Output a JSON file to use for simulations"
   ]
  },
  {
   "cell_type": "code",
   "execution_count": 21,
   "metadata": {},
   "outputs": [],
   "source": [
    "with open(\"kenya_lifespan_pmf_1990.json\", 'w') as f:\n",
    "    f.write('{{ \"pmf\": {} }}'.format(lx.lifespan_pmf.to_json(orient='records')))"
   ]
  },
  {
   "cell_type": "code",
   "execution_count": 309,
   "metadata": {},
   "outputs": [],
   "source": []
  },
  {
   "cell_type": "code",
   "execution_count": null,
   "metadata": {},
   "outputs": [],
   "source": []
  }
 ],
 "metadata": {
  "kernelspec": {
   "display_name": "Python 2",
   "language": "python",
   "name": "python2"
  },
  "language_info": {
   "codemirror_mode": {
    "name": "ipython",
    "version": 2
   },
   "file_extension": ".py",
   "mimetype": "text/x-python",
   "name": "python",
   "nbconvert_exporter": "python",
   "pygments_lexer": "ipython2",
   "version": "2.7.11"
  }
 },
 "nbformat": 4,
 "nbformat_minor": 1
}
