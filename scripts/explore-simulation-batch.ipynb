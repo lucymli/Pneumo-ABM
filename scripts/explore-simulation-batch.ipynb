{
 "cells": [
  {
   "cell_type": "code",
   "execution_count": 1,
   "metadata": {
    "collapsed": false
   },
   "outputs": [
    {
     "name": "stderr",
     "output_type": "stream",
     "text": [
      "/Users/ocsicnarf/Library/Enthought/Canopy_64bit/User/lib/python2.7/site-packages/matplotlib/__init__.py:872: UserWarning: axes.color_cycle is deprecated and replaced with axes.prop_cycle; please use the latter.\n",
      "  warnings.warn(self.msg_depr % (key, alt_key))\n"
     ]
    }
   ],
   "source": [
    "from collections import namedtuple\n",
    "from functools import partial\n",
    "import palettable\n",
    "import json\n",
    "import matplotlib as mpl\n",
    "import matplotlib.pyplot as plt\n",
    "import numpy as np\n",
    "import os\n",
    "import pandas as pd\n",
    "import re\n",
    "from plotting_utils import remove_spines, save_figure"
   ]
  },
  {
   "cell_type": "code",
   "execution_count": 2,
   "metadata": {
    "collapsed": false
   },
   "outputs": [],
   "source": [
    "%matplotlib inline\n",
    "set1_colors     = palettable.colorbrewer.qualitative.Set1_9.mpl_colors\n",
    "dark2_colors    = palettable.colorbrewer.qualitative.Dark2_8.mpl_colors\n",
    "paired12_colors = palettable.colorbrewer.qualitative.Paired_12.mpl_colors"
   ]
  },
  {
   "cell_type": "code",
   "execution_count": 3,
   "metadata": {
    "collapsed": false
   },
   "outputs": [],
   "source": [
    "run_name = 'wcv-trial-kenya-e-0.1'\n",
    "num_trials = 5\n",
    "output_dir = '../outputs/{}/'.format(run_name)"
   ]
  },
  {
   "cell_type": "code",
   "execution_count": 4,
   "metadata": {
    "collapsed": false
   },
   "outputs": [],
   "source": [
    "save_fig = partial(save_figure, folder=output_dir + 'figures', exts=['pdf', 'png'], dpi=300)"
   ]
  },
  {
   "cell_type": "code",
   "execution_count": 5,
   "metadata": {
    "collapsed": false
   },
   "outputs": [],
   "source": [
    "with open(output_dir + 'configuration/configuration.json') as f:\n",
    "    config = json.load(f, object_hook=lambda d: namedtuple('Config', d.keys())(*d.values()))\n",
    "serotypes = json.load(open(output_dir + 'configuration/' + config.serotype.serotypes_file))['serotypes']\n",
    "num_serotypes = len(serotypes)\n",
    "max_age = config.population.max_age\n",
    "num_years = config.simulation.num_years_burn_in.demographic + config.simulation.num_years_burn_in.epidemiologic + config.simulation.num_years_simulation + 1"
   ]
  },
  {
   "cell_type": "markdown",
   "metadata": {},
   "source": [
    "Extract serogroups"
   ]
  },
  {
   "cell_type": "code",
   "execution_count": 6,
   "metadata": {
    "collapsed": false
   },
   "outputs": [],
   "source": [
    "serogroups = [re.search('(\\d+)\\w*', s).group(1) for s in serotypes]"
   ]
  },
  {
   "cell_type": "code",
   "execution_count": 7,
   "metadata": {
    "collapsed": false
   },
   "outputs": [],
   "source": [
    "get_sg = lambda st: re.search('(\\d+)\\w*', st).group(1)"
   ]
  },
  {
   "cell_type": "markdown",
   "metadata": {},
   "source": [
    "### Estimated Prevalences from Multiple Runs Compared to Observed"
   ]
  },
  {
   "cell_type": "markdown",
   "metadata": {},
   "source": [
    "Note: prevalence is in children under 5"
   ]
  },
  {
   "cell_type": "code",
   "execution_count": 8,
   "metadata": {
    "collapsed": false
   },
   "outputs": [],
   "source": [
    "def read_csv(filename):\n",
    "    return np.array(pd.read_csv(filename, header=None))"
   ]
  },
  {
   "cell_type": "code",
   "execution_count": 9,
   "metadata": {
    "collapsed": false
   },
   "outputs": [],
   "source": [
    "def get_estimated_prevalences(trial_number, year=-1):\n",
    "    trial_dir = os.path.join(output_dir, 'trial-{}/'.format(trial_number))\n",
    "    num_hosts_by_age = read_csv(os.path.join(trial_dir, 'num_hosts_by_age.csv'))\n",
    "    num_hosts_under_5 = num_hosts_by_age[:,:5].sum(axis=1)\n",
    "\n",
    "    num_colonized_under_5_ss = np.zeros(shape=(num_years, num_serotypes))\n",
    "    for i in range(num_serotypes):\n",
    "        num_colonized_under_5_ss[:,i] = read_csv(os.path.join(trial_dir, 'num_colonized_by_age_ss_' + serotypes[i] + '.csv'))[:,:5].sum(axis=1)\n",
    "\n",
    "    estimated_prevalences = num_colonized_under_5_ss[year,:] / num_hosts_under_5[year]\n",
    "    return estimated_prevalences"
   ]
  },
  {
   "cell_type": "markdown",
   "metadata": {},
   "source": [
    "Get observed prevalences"
   ]
  },
  {
   "cell_type": "code",
   "execution_count": 10,
   "metadata": {
    "collapsed": false
   },
   "outputs": [],
   "source": [
    "observed_counts_file = '/Users/ocsicnarf/Github/Pneumo-Model/configuration/observed_counts_kenya_prevaccine.json' \n",
    "#output_dir + 'configuration/' + config.fitting.observed_counts_file"
   ]
  },
  {
   "cell_type": "code",
   "execution_count": 11,
   "metadata": {
    "collapsed": false
   },
   "outputs": [],
   "source": [
    "observed_counts = json.load(open(observed_counts_file))['counts']\n",
    "prevalences = pd.DataFrame({'observed': np.array(observed_counts[:-1]) / np.sum(observed_counts).astype(float)}, index=serotypes)"
   ]
  },
  {
   "cell_type": "markdown",
   "metadata": {},
   "source": [
    "Get prevalences each simulation trial"
   ]
  },
  {
   "cell_type": "code",
   "execution_count": 12,
   "metadata": {
    "collapsed": false
   },
   "outputs": [
    {
     "name": "stdout",
     "output_type": "stream",
     "text": [
      "CPU times: user 2.02 s, sys: 151 ms, total: 2.17 s\n",
      "Wall time: 2.3 s\n"
     ]
    }
   ],
   "source": [
    "%%time\n",
    "YEAR = 140\n",
    "for i in range(num_trials):\n",
    "    prevalences['trial-{}'.format(i)] = get_estimated_prevalences(i, YEAR)"
   ]
  },
  {
   "cell_type": "markdown",
   "metadata": {},
   "source": [
    "Get vaccine types for annotation"
   ]
  },
  {
   "cell_type": "code",
   "execution_count": 13,
   "metadata": {
    "collapsed": false
   },
   "outputs": [
    {
     "ename": "AttributeError",
     "evalue": "'Config' object has no attribute 'susceptibility_reduction'",
     "output_type": "error",
     "traceback": [
      "\u001b[0;31m---------------------------------------------------------------------------\u001b[0m",
      "\u001b[0;31mAttributeError\u001b[0m                            Traceback (most recent call last)",
      "\u001b[0;32m<ipython-input-13-295ee186c695>\u001b[0m in \u001b[0;36m<module>\u001b[0;34m()\u001b[0m\n\u001b[1;32m      1\u001b[0m \u001b[0mvaccine_types\u001b[0m \u001b[0;34m=\u001b[0m \u001b[0;34m{\u001b[0m\u001b[0;34m}\u001b[0m\u001b[0;34m\u001b[0m\u001b[0m\n\u001b[1;32m      2\u001b[0m \u001b[0;32mfor\u001b[0m \u001b[0mv\u001b[0m \u001b[0;32min\u001b[0m \u001b[0mconfig\u001b[0m\u001b[0;34m.\u001b[0m\u001b[0mvaccines\u001b[0m\u001b[0;34m:\u001b[0m\u001b[0;34m\u001b[0m\u001b[0m\n\u001b[0;32m----> 3\u001b[0;31m     \u001b[0mvaccine_types\u001b[0m\u001b[0;34m[\u001b[0m\u001b[0mv\u001b[0m\u001b[0;34m.\u001b[0m\u001b[0mname\u001b[0m\u001b[0;34m]\u001b[0m \u001b[0;34m=\u001b[0m \u001b[0mv\u001b[0m\u001b[0;34m.\u001b[0m\u001b[0msusceptibility_reduction\u001b[0m\u001b[0;34m.\u001b[0m\u001b[0mserotypes\u001b[0m\u001b[0;34m\u001b[0m\u001b[0m\n\u001b[0m",
      "\u001b[0;31mAttributeError\u001b[0m: 'Config' object has no attribute 'susceptibility_reduction'"
     ]
    }
   ],
   "source": [
    "vaccine_types = {}\n",
    "for v in config.vaccines:\n",
    "    vaccine_types[v.name] = v.susceptibility_reduction.serotypes"
   ]
  },
  {
   "cell_type": "code",
   "execution_count": 14,
   "metadata": {
    "collapsed": false
   },
   "outputs": [],
   "source": [
    "targeted_serotypes = {}\n",
    "#for program in config.simulation.vaccinations:\n",
    "#    targeted_serotypes[program.vaccine] = vaccine_types[program.vaccine]"
   ]
  },
  {
   "cell_type": "markdown",
   "metadata": {},
   "source": [
    "Plot"
   ]
  },
  {
   "cell_type": "code",
   "execution_count": 15,
   "metadata": {
    "collapsed": false
   },
   "outputs": [
    {
     "data": {
      "text/plain": [
       "['../outputs/wcv-trial-kenya-e-0.1/figures/simulated-vs-observed-year-140-0.pdf',\n",
       " '../outputs/wcv-trial-kenya-e-0.1/figures/simulated-vs-observed-year-140-0.png']"
      ]
     },
     "execution_count": 15,
     "metadata": {},
     "output_type": "execute_result"
    },
    {
     "data": {
      "image/png": "[encoded data removed]",
      "text/plain": [
       "<matplotlib.figure.Figure at 0x10d43ac90>"
      ]
     },
     "metadata": {},
     "output_type": "display_data"
    }
   ],
   "source": [
    "fig, ax = plt.subplots(1, 1, figsize=(15, 5))\n",
    "\n",
    "get_observed = lambda s: prevalences.loc[s].observed\n",
    "get_estimates = lambda s: [prevalences.loc[s]['trial-{}'.format(i)] for i in range(num_trials)]\n",
    "\n",
    "for i, s in enumerate(serotypes):\n",
    "    ax.scatter(np.repeat(i, num_trials), get_estimates(s), c=set1_colors[1], alpha=0.9)\n",
    "    ax.scatter(i, get_observed(s), c='k', s=50, marker='s', alpha=0.9)\n",
    "\n",
    "for i, s in enumerate(serotypes):\n",
    "  if i % 2:\n",
    "    ax.axvspan(i - 0.5, i + 0.5, fc='k', alpha=0.05)\n",
    "  \n",
    "for i, s in enumerate(serotypes):\n",
    "    # label serotype if it is targeted by a vaccination program\n",
    "    for vac, vac_types in targeted_serotypes.iteritems():\n",
    "        if s in vac_types:\n",
    "            ax.axvspan(i - 0.5, i + 0.5, fc='k', alpha=0.1)\n",
    "            ax.text(i, ax.get_ylim()[1], vac, ha='right', va='top', fontsize=9, rotation=-90)\n",
    "        elif get_sg(s) in set(get_sg(t) for t in vac_types):\n",
    "            ax.axvspan(i - 0.5, i + 0.5, fc='r', alpha=0.1)\n",
    "            ax.text(i, ax.get_ylim()[1], 'VRT'.format(vac), ha='right', va='top', fontsize=9, rotation=-90)\n",
    "            \n",
    "ax.scatter(None, None, c=set1_colors[1], label='simulated')\n",
    "ax.scatter(None, None, c='k', label='observed', marker='s')\n",
    "ax.legend(loc=(0.6, 0.8), frameon=True)\n",
    "    \n",
    "ax.set_xlim(-0.5, num_serotypes - 0.5)\n",
    "ax.set_ylim(0)\n",
    "ax.yaxis.grid(which='major', alpha=0.5)\n",
    "ax.set_xticks(np.arange(num_serotypes))\n",
    "ax.set_xticklabels(serotypes, rotation=70)\n",
    "ax.set_ylabel('Prevalence in Children under 5')\n",
    "ax.set_xlabel('Serotype')\n",
    "\n",
    "remove_spines(ax)\n",
    "fig.tight_layout()\n",
    "save_fig(fig, 'simulated-vs-observed-year-{}'.format(YEAR))"
   ]
  },
  {
   "cell_type": "code",
   "execution_count": null,
   "metadata": {
    "collapsed": false
   },
   "outputs": [],
   "source": []
  },
  {
   "cell_type": "code",
   "execution_count": null,
   "metadata": {
    "collapsed": false
   },
   "outputs": [],
   "source": []
  },
  {
   "cell_type": "markdown",
   "metadata": {},
   "source": [
    "### Timecourses of Vaccine Types and Non-vaccine Types"
   ]
  },
  {
   "cell_type": "markdown",
   "metadata": {},
   "source": [
    "Not implemented"
   ]
  },
  {
   "cell_type": "code",
   "execution_count": 43,
   "metadata": {
    "collapsed": false
   },
   "outputs": [],
   "source": []
  },
  {
   "cell_type": "code",
   "execution_count": 43,
   "metadata": {
    "collapsed": false
   },
   "outputs": [],
   "source": []
  },
  {
   "cell_type": "code",
   "execution_count": 43,
   "metadata": {
    "collapsed": false
   },
   "outputs": [],
   "source": []
  },
  {
   "cell_type": "markdown",
   "metadata": {},
   "source": [
    "### Fitter ranks with increasing serogroup immunity (from fitting to US data)"
   ]
  },
  {
   "cell_type": "markdown",
   "metadata": {},
   "source": [
    "This should really be its own notebook"
   ]
  },
  {
   "cell_type": "code",
   "execution_count": 290,
   "metadata": {
    "collapsed": false
   },
   "outputs": [],
   "source": [
    "serotypes_sparc2 = json.load(open(\"../configuration/serotypes_sparc2.json\"))['serotypes']\n",
    "ranks_30 = json.load(open(\"../configuration/ranks-us-no-age-mixing-0.3-sg-30-halflife.json\"))['ranks']\n",
    "ranks_500 = json.load(open(\"../configuration/ranks-us-no-age-mixing-0.3-sg-500-halflife.json\"))['ranks']\n",
    "ranks_1000 = json.load(open(\"../configuration/ranks-us-no-age-mixing-0.3-sg-1000-halflife.json\"))['ranks']\n",
    "ranks_4000 = json.load(open(\"../configuration/ranks-us-no-age-mixing-0.3-sg-4000-halflife.json\"))['ranks']\n",
    "ranks_inf = json.load(open(\"../configuration/ranks-us-no-age-mixing-0.3-sg.json\"))['ranks']"
   ]
  },
  {
   "cell_type": "code",
   "execution_count": 291,
   "metadata": {
    "collapsed": false
   },
   "outputs": [],
   "source": [
    "ranks_df = pd.DataFrame({30: ranks_30, 500: ranks_500, 1000: ranks_1000, 4000: ranks_4000, 'inf': ranks_inf}, index=serotypes_sparc2)"
   ]
  },
  {
   "cell_type": "code",
   "execution_count": 292,
   "metadata": {
    "collapsed": false
   },
   "outputs": [
    {
     "data": {
      "text/html": [
       "<div style=\"max-height:1000px;max-width:1500px;overflow:auto;\">\n",
       "<table border=\"1\" class=\"dataframe\">\n",
       "  <thead>\n",
       "    <tr style=\"text-align: right;\">\n",
       "      <th></th>\n",
       "      <th>30</th>\n",
       "      <th>500</th>\n",
       "      <th>1000</th>\n",
       "      <th>4000</th>\n",
       "      <th>inf</th>\n",
       "    </tr>\n",
       "  </thead>\n",
       "  <tbody>\n",
       "    <tr>\n",
       "      <th>10</th>\n",
       "      <td>  9.032824</td>\n",
       "      <td>  9.576236</td>\n",
       "      <td>  9.236355</td>\n",
       "      <td>  9.991998</td>\n",
       "      <td>  9.851905</td>\n",
       "    </tr>\n",
       "    <tr>\n",
       "      <th>11A</th>\n",
       "      <td>  5.530483</td>\n",
       "      <td>  5.459044</td>\n",
       "      <td>  5.537561</td>\n",
       "      <td>  6.109559</td>\n",
       "      <td>  6.169797</td>\n",
       "    </tr>\n",
       "    <tr>\n",
       "      <th>13</th>\n",
       "      <td> 40.000000</td>\n",
       "      <td> 40.000000</td>\n",
       "      <td> 40.000000</td>\n",
       "      <td> 40.000000</td>\n",
       "      <td> 40.000000</td>\n",
       "    </tr>\n",
       "    <tr>\n",
       "      <th>14</th>\n",
       "      <td>  7.932141</td>\n",
       "      <td>  8.374397</td>\n",
       "      <td>  8.472059</td>\n",
       "      <td>  8.995644</td>\n",
       "      <td>  8.904071</td>\n",
       "    </tr>\n",
       "    <tr>\n",
       "      <th>15A</th>\n",
       "      <td> 12.445500</td>\n",
       "      <td> 12.414800</td>\n",
       "      <td> 12.228100</td>\n",
       "      <td> 11.532230</td>\n",
       "      <td> 10.143430</td>\n",
       "    </tr>\n",
       "  </tbody>\n",
       "</table>\n",
       "</div>"
      ],
      "text/plain": [
       "            30        500       1000       4000        inf\n",
       "10    9.032824   9.576236   9.236355   9.991998   9.851905\n",
       "11A   5.530483   5.459044   5.537561   6.109559   6.169797\n",
       "13   40.000000  40.000000  40.000000  40.000000  40.000000\n",
       "14    7.932141   8.374397   8.472059   8.995644   8.904071\n",
       "15A  12.445500  12.414800  12.228100  11.532230  10.143430"
      ]
     },
     "execution_count": 292,
     "metadata": {},
     "output_type": "execute_result"
    }
   ],
   "source": [
    "ranks_df.head()"
   ]
  },
  {
   "cell_type": "code",
   "execution_count": 293,
   "metadata": {
    "collapsed": false
   },
   "outputs": [],
   "source": [
    "halflifes = ranks_df.columns\n",
    "num_serotypes = len(serotypes_sparc2)"
   ]
  },
  {
   "cell_type": "code",
   "execution_count": 294,
   "metadata": {
    "collapsed": false
   },
   "outputs": [
    {
     "data": {
      "text/plain": [
       "5.5304829999999994"
      ]
     },
     "execution_count": 294,
     "metadata": {},
     "output_type": "execute_result"
    }
   ],
   "source": [
    "ranks_df.ix['11A', 30]"
   ]
  },
  {
   "cell_type": "code",
   "execution_count": 295,
   "metadata": {
    "collapsed": false
   },
   "outputs": [],
   "source": [
    "get_serogroup = lambda s: int(re.search('(\\d+)\\D*', s).group(1))\n",
    "serogroups_sparc2 = [get_serogroup(s) for s in serotypes_sparc2]\n",
    "has_sibling = [serogroups_sparc2.count(get_serogroup(s)) > 1 for s in serotypes_sparc2]"
   ]
  },
  {
   "cell_type": "code",
   "execution_count": 298,
   "metadata": {
    "collapsed": false
   },
   "outputs": [
    {
     "data": {
      "text/plain": [
       "['../figures/ranks-vs-sg-halflife-4.pdf']"
      ]
     },
     "execution_count": 298,
     "metadata": {},
     "output_type": "execute_result"
    },
    {
     "data": {
      "image/png": "[encoded data removed]",
      "text/plain": [
       "<matplotlib.figure.Figure at 0x10e6e1fd0>"
      ]
     },
     "metadata": {},
     "output_type": "display_data"
    }
   ],
   "source": [
    "fig, ax = plt.subplots(1, 1, figsize=(12, 6))\n",
    "colors = dark2_colors[:4]\n",
    "for s in range(num_serotypes):\n",
    "  for i, h in enumerate(halflifes):\n",
    "    ax.scatter(s, ranks_df.iloc[s, i], c=dark2_colors[i], s=80, marker='s', alpha=0.7)\n",
    "  ax.axvspan(s - 0.5, s + 0.5, ec='none', fc=set1_colors[serogroups_sparc2[s] % len(set1_colors)], alpha=(0.3 if has_sibling[s] else 0.0))\n",
    "\n",
    "for i, h in enumerate(halflifes):\n",
    "  ax.scatter(None, None, c=dark2_colors[i], label=h)\n",
    "lgd = ax.legend(title='serogroup\\n immunity halflife', frameon=True, loc='upper left')\n",
    "\n",
    "ax.set_xlim(-0.5, num_serotypes - 0.5)\n",
    "ax.set_xticks(np.arange(num_serotypes))\n",
    "ax.set_xticklabels(ranks_df.index, rotation=70)\n",
    "\n",
    "ax.set_ylim(0.8, 15)\n",
    "ax.set_ylabel('Fitness Rank')\n",
    "ax.set_xlabel('Serotype')\n",
    "ax.yaxis.grid(True, which='major')\n",
    "\n",
    "remove_spines(ax)\n",
    "fig.tight_layout()\n",
    "save_figure(fig, 'ranks-vs-sg-halflife')"
   ]
  },
  {
   "cell_type": "code",
   "execution_count": null,
   "metadata": {
    "collapsed": false
   },
   "outputs": [],
   "source": []
  }
 ],
 "metadata": {
  "kernelspec": {
   "display_name": "Python 2",
   "language": "python",
   "name": "python2"
  },
  "language_info": {
   "codemirror_mode": {
    "name": "ipython",
    "version": 2
   },
   "file_extension": ".py",
   "mimetype": "text/x-python",
   "name": "python",
   "nbconvert_exporter": "python",
   "pygments_lexer": "ipython2",
   "version": "2.7.11"
  }
 },
 "nbformat": 4,
 "nbformat_minor": 0
}
