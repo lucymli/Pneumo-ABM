{
 "cells": [
  {
   "cell_type": "code",
   "execution_count": 4,
   "metadata": {},
   "outputs": [],
   "source": [
    "import json\n",
    "import numpy as np\n",
    "import pandas as pd"
   ]
  },
  {
   "cell_type": "markdown",
   "metadata": {},
   "source": [
    "## Get observed counts for each serotype (by year)"
   ]
  },
  {
   "cell_type": "markdown",
   "metadata": {},
   "source": [
    "Read in spreadsheet"
   ]
  },
  {
   "cell_type": "code",
   "execution_count": 5,
   "metadata": {},
   "outputs": [
    {
     "data": {
      "text/html": [
       "<div>\n",
       "<table border=\"1\" class=\"dataframe\">\n",
       "  <thead>\n",
       "    <tr style=\"text-align: right;\">\n",
       "      <th></th>\n",
       "      <th>Collection_Year</th>\n",
       "      <th>Serotype</th>\n",
       "      <th>Number_of_Serotypes</th>\n",
       "      <th>Age_Years</th>\n",
       "    </tr>\n",
       "  </thead>\n",
       "  <tbody>\n",
       "    <tr>\n",
       "      <th>0</th>\n",
       "      <td>2001</td>\n",
       "      <td>NaN</td>\n",
       "      <td>6</td>\n",
       "      <td>1. &lt;=1 year</td>\n",
       "    </tr>\n",
       "    <tr>\n",
       "      <th>1</th>\n",
       "      <td>2001</td>\n",
       "      <td>NaN</td>\n",
       "      <td>12</td>\n",
       "      <td>2. 1&gt; - &lt;=2 years</td>\n",
       "    </tr>\n",
       "    <tr>\n",
       "      <th>2</th>\n",
       "      <td>2001</td>\n",
       "      <td>NaN</td>\n",
       "      <td>3</td>\n",
       "      <td>3. 2&gt; - &lt;=3 years</td>\n",
       "    </tr>\n",
       "    <tr>\n",
       "      <th>3</th>\n",
       "      <td>2001</td>\n",
       "      <td>NaN</td>\n",
       "      <td>5</td>\n",
       "      <td>4. 3&gt; - &lt;=4 years</td>\n",
       "    </tr>\n",
       "    <tr>\n",
       "      <th>4</th>\n",
       "      <td>2001</td>\n",
       "      <td>NaN</td>\n",
       "      <td>2</td>\n",
       "      <td>5. 4&gt; - &lt;=5 years</td>\n",
       "    </tr>\n",
       "  </tbody>\n",
       "</table>\n",
       "</div>"
      ],
      "text/plain": [
       "   Collection_Year Serotype  Number_of_Serotypes          Age_Years\n",
       "0             2001      NaN                    6        1. <=1 year\n",
       "1             2001      NaN                   12  2. 1> - <=2 years\n",
       "2             2001      NaN                    3  3. 2> - <=3 years\n",
       "3             2001      NaN                    5  4. 3> - <=4 years\n",
       "4             2001      NaN                    2  5. 4> - <=5 years"
      ]
     },
     "execution_count": 5,
     "metadata": {},
     "output_type": "execute_result"
    }
   ],
   "source": [
    "sparc2 = pd.read_excel('data/united-states/SPARC2_CollectionYear_Serotypes_Age_2014_BMC.xls')\n",
    "sparc2.head()"
   ]
  },
  {
   "cell_type": "markdown",
   "metadata": {},
   "source": [
    "Extract meaning from Age_Years"
   ]
  },
  {
   "cell_type": "code",
   "execution_count": 6,
   "metadata": {},
   "outputs": [
    {
     "name": "stderr",
     "output_type": "stream",
     "text": [
      "/Users/ocsicnarf/Library/Enthought/Canopy_64bit/User/lib/python2.7/site-packages/ipykernel/__main__.py:1: FutureWarning: currently extract(expand=None) means expand=False (return Index/Series/DataFrame) but in a future version of pandas this will be changed to expand=True (return DataFrame)\n",
      "  if __name__ == '__main__':\n",
      "/Users/ocsicnarf/Library/Enthought/Canopy_64bit/User/lib/python2.7/site-packages/ipykernel/__main__.py:1: FutureWarning: convert_objects is deprecated.  Use the data-type specific converters pd.to_datetime, pd.to_timedelta and pd.to_numeric.\n",
      "  if __name__ == '__main__':\n"
     ]
    },
    {
     "data": {
      "text/html": [
       "<div>\n",
       "<table border=\"1\" class=\"dataframe\">\n",
       "  <thead>\n",
       "    <tr style=\"text-align: right;\">\n",
       "      <th></th>\n",
       "      <th>Collection_Year</th>\n",
       "      <th>Serotype</th>\n",
       "      <th>Number_of_Serotypes</th>\n",
       "      <th>Age_Years</th>\n",
       "      <th>age_lower</th>\n",
       "      <th>age_upper</th>\n",
       "    </tr>\n",
       "  </thead>\n",
       "  <tbody>\n",
       "    <tr>\n",
       "      <th>0</th>\n",
       "      <td>2001</td>\n",
       "      <td>NaN</td>\n",
       "      <td>6</td>\n",
       "      <td>1. &lt;=1 year</td>\n",
       "      <td>NaN</td>\n",
       "      <td>1</td>\n",
       "    </tr>\n",
       "    <tr>\n",
       "      <th>1</th>\n",
       "      <td>2001</td>\n",
       "      <td>NaN</td>\n",
       "      <td>12</td>\n",
       "      <td>2. 1&gt; - &lt;=2 years</td>\n",
       "      <td>1.0</td>\n",
       "      <td>2</td>\n",
       "    </tr>\n",
       "    <tr>\n",
       "      <th>2</th>\n",
       "      <td>2001</td>\n",
       "      <td>NaN</td>\n",
       "      <td>3</td>\n",
       "      <td>3. 2&gt; - &lt;=3 years</td>\n",
       "      <td>2.0</td>\n",
       "      <td>3</td>\n",
       "    </tr>\n",
       "    <tr>\n",
       "      <th>3</th>\n",
       "      <td>2001</td>\n",
       "      <td>NaN</td>\n",
       "      <td>5</td>\n",
       "      <td>4. 3&gt; - &lt;=4 years</td>\n",
       "      <td>3.0</td>\n",
       "      <td>4</td>\n",
       "    </tr>\n",
       "    <tr>\n",
       "      <th>4</th>\n",
       "      <td>2001</td>\n",
       "      <td>NaN</td>\n",
       "      <td>2</td>\n",
       "      <td>5. 4&gt; - &lt;=5 years</td>\n",
       "      <td>4.0</td>\n",
       "      <td>5</td>\n",
       "    </tr>\n",
       "  </tbody>\n",
       "</table>\n",
       "</div>"
      ],
      "text/plain": [
       "   Collection_Year Serotype  Number_of_Serotypes          Age_Years  \\\n",
       "0             2001      NaN                    6        1. <=1 year   \n",
       "1             2001      NaN                   12  2. 1> - <=2 years   \n",
       "2             2001      NaN                    3  3. 2> - <=3 years   \n",
       "3             2001      NaN                    5  4. 3> - <=4 years   \n",
       "4             2001      NaN                    2  5. 4> - <=5 years   \n",
       "\n",
       "   age_lower  age_upper  \n",
       "0        NaN          1  \n",
       "1        1.0          2  \n",
       "2        2.0          3  \n",
       "3        3.0          4  \n",
       "4        4.0          5  "
      ]
     },
     "execution_count": 6,
     "metadata": {},
     "output_type": "execute_result"
    }
   ],
   "source": [
    "sparc2[['age_lower', 'age_upper']] = sparc2.Age_Years.str.extract('\\d\\.\\s(\\d)?.*?(\\d)').convert_objects(convert_numeric=True)\n",
    "sparc2.head()"
   ]
  },
  {
   "cell_type": "markdown",
   "metadata": {},
   "source": [
    "See what serotypes are present"
   ]
  },
  {
   "cell_type": "code",
   "execution_count": 7,
   "metadata": {},
   "outputs": [
    {
     "name": "stdout",
     "output_type": "stream",
     "text": [
      "[nan, u'10', u'10A', u'10B', u'11A', u'13', u'14', u'15A', u'15B/C', u'15F', u'16F', u'17F', u'18C', u'18F', u'19A', u'19F', u'20', u'21', u'22F', u'23A', u'23B', u'23F', u'24F', u'25A', u'29', u'3', u'31', u'33', u'33A', u'33F', u'34', u'35A/B', u'35B', u'35F', u'36', u'37', u'38', u'4', u'6A', u'6B', u'6C', u'7', u'7C', u'7F', u'9A', u'9N', u'9V', u'NT', u'Pool I']\n"
     ]
    }
   ],
   "source": [
    "print sorted(sparc2.Serotype.unique())"
   ]
  },
  {
   "cell_type": "markdown",
   "metadata": {},
   "source": [
    "Restrict our dataset to serotyped data and to kids under 5"
   ]
  },
  {
   "cell_type": "code",
   "execution_count": 8,
   "metadata": {},
   "outputs": [],
   "source": [
    "serotyped = sparc2.Serotype.notnull() & ~sparc2.Serotype.isin(['Pool I', 'NT'])\n",
    "under_five = sparc2.age_upper <= 5\n",
    "sparc2 = sparc2[serotyped & under_five]"
   ]
  },
  {
   "cell_type": "code",
   "execution_count": 9,
   "metadata": {},
   "outputs": [
    {
     "data": {
      "text/html": [
       "<div>\n",
       "<table border=\"1\" class=\"dataframe\">\n",
       "  <thead>\n",
       "    <tr style=\"text-align: right;\">\n",
       "      <th></th>\n",
       "      <th>Collection_Year</th>\n",
       "      <th>Serotype</th>\n",
       "      <th>Number_of_Serotypes</th>\n",
       "      <th>Age_Years</th>\n",
       "      <th>age_lower</th>\n",
       "      <th>age_upper</th>\n",
       "    </tr>\n",
       "  </thead>\n",
       "  <tbody>\n",
       "    <tr>\n",
       "      <th>7</th>\n",
       "      <td>2001</td>\n",
       "      <td>10</td>\n",
       "      <td>2</td>\n",
       "      <td>1. &lt;=1 year</td>\n",
       "      <td>NaN</td>\n",
       "      <td>1</td>\n",
       "    </tr>\n",
       "    <tr>\n",
       "      <th>8</th>\n",
       "      <td>2001</td>\n",
       "      <td>10</td>\n",
       "      <td>1</td>\n",
       "      <td>2. 1&gt; - &lt;=2 years</td>\n",
       "      <td>1.0</td>\n",
       "      <td>2</td>\n",
       "    </tr>\n",
       "    <tr>\n",
       "      <th>9</th>\n",
       "      <td>2001</td>\n",
       "      <td>11A</td>\n",
       "      <td>1</td>\n",
       "      <td>1. &lt;=1 year</td>\n",
       "      <td>NaN</td>\n",
       "      <td>1</td>\n",
       "    </tr>\n",
       "    <tr>\n",
       "      <th>10</th>\n",
       "      <td>2001</td>\n",
       "      <td>11A</td>\n",
       "      <td>1</td>\n",
       "      <td>2. 1&gt; - &lt;=2 years</td>\n",
       "      <td>1.0</td>\n",
       "      <td>2</td>\n",
       "    </tr>\n",
       "    <tr>\n",
       "      <th>11</th>\n",
       "      <td>2001</td>\n",
       "      <td>11A</td>\n",
       "      <td>5</td>\n",
       "      <td>3. 2&gt; - &lt;=3 years</td>\n",
       "      <td>2.0</td>\n",
       "      <td>3</td>\n",
       "    </tr>\n",
       "  </tbody>\n",
       "</table>\n",
       "</div>"
      ],
      "text/plain": [
       "    Collection_Year Serotype  Number_of_Serotypes          Age_Years  \\\n",
       "7              2001       10                    2        1. <=1 year   \n",
       "8              2001       10                    1  2. 1> - <=2 years   \n",
       "9              2001      11A                    1        1. <=1 year   \n",
       "10             2001      11A                    1  2. 1> - <=2 years   \n",
       "11             2001      11A                    5  3. 2> - <=3 years   \n",
       "\n",
       "    age_lower  age_upper  \n",
       "7         NaN          1  \n",
       "8         1.0          2  \n",
       "9         NaN          1  \n",
       "10        1.0          2  \n",
       "11        2.0          3  "
      ]
     },
     "execution_count": 9,
     "metadata": {},
     "output_type": "execute_result"
    }
   ],
   "source": [
    "sparc2.head()"
   ]
  },
  {
   "cell_type": "markdown",
   "metadata": {},
   "source": [
    "Combine certain serotypes into the same group"
   ]
  },
  {
   "cell_type": "code",
   "execution_count": 10,
   "metadata": {},
   "outputs": [],
   "source": [
    "serotype_map = {\n",
    "  '10A': '10',\n",
    "  '10B': '10',\n",
    "  '35B': '35A/B'\n",
    "}\n",
    "sparc2.Serotype.replace(serotype_map, inplace=True)"
   ]
  },
  {
   "cell_type": "markdown",
   "metadata": {},
   "source": [
    "Get counts, grouped by collection year and by serotype"
   ]
  },
  {
   "cell_type": "code",
   "execution_count": 11,
   "metadata": {},
   "outputs": [],
   "source": [
    "counts = sparc2.groupby(['Collection_Year', 'Serotype'])['Number_of_Serotypes'].sum()"
   ]
  },
  {
   "cell_type": "markdown",
   "metadata": {},
   "source": [
    "A template Series to align serotype counts between the different years"
   ]
  },
  {
   "cell_type": "code",
   "execution_count": 12,
   "metadata": {},
   "outputs": [],
   "source": [
    "zero_counts = pd.Series(0, index=sparc2.Serotype.unique())"
   ]
  },
  {
   "cell_type": "code",
   "execution_count": 23,
   "metadata": {},
   "outputs": [
    {
     "name": "stdout",
     "output_type": "stream",
     "text": [
      "2001: 126\n",
      "2004: 183\n",
      "2007: 263\n",
      "2009: 253\n",
      "2011: 311\n",
      "2014: 286\n"
     ]
    }
   ],
   "source": [
    "years = counts.index.levels[0]\n",
    "counts_by_year = {}\n",
    "for yr in years:\n",
    "  counts_by_year[yr] = (zero_counts + counts[yr]).fillna(0).astype(int)\n",
    "  print \"{}: {}\".format(yr, counts_by_year[yr].sum())"
   ]
  },
  {
   "cell_type": "markdown",
   "metadata": {},
   "source": [
    "Double check that all the counts are aligned"
   ]
  },
  {
   "cell_type": "code",
   "execution_count": 14,
   "metadata": {},
   "outputs": [],
   "source": [
    "for yr in years:\n",
    "  same_index = (counts_by_year[years[0]].index == counts_by_year[yr].index).all()\n",
    "  if not same_index:\n",
    "    print 'Problem!'"
   ]
  },
  {
   "cell_type": "markdown",
   "metadata": {},
   "source": [
    "## Get denominators (number of swabs) by year"
   ]
  },
  {
   "cell_type": "markdown",
   "metadata": {},
   "source": [
    "Read in data"
   ]
  },
  {
   "cell_type": "code",
   "execution_count": 15,
   "metadata": {},
   "outputs": [],
   "source": [
    "swabs = pd.read_csv(\"data/united-states/SPARC_SwabbingByAge_2001-2014 MDL.csv\")"
   ]
  },
  {
   "cell_type": "markdown",
   "metadata": {},
   "source": [
    "Extract meaning from age_range. Restrict to under 5"
   ]
  },
  {
   "cell_type": "code",
   "execution_count": 16,
   "metadata": {},
   "outputs": [
    {
     "name": "stderr",
     "output_type": "stream",
     "text": [
      "/Users/ocsicnarf/Library/Enthought/Canopy_64bit/User/lib/python2.7/site-packages/ipykernel/__main__.py:1: FutureWarning: currently extract(expand=None) means expand=False (return Index/Series/DataFrame) but in a future version of pandas this will be changed to expand=True (return DataFrame)\n",
      "  if __name__ == '__main__':\n",
      "/Users/ocsicnarf/Library/Enthought/Canopy_64bit/User/lib/python2.7/site-packages/ipykernel/__main__.py:1: FutureWarning: convert_objects is deprecated.  Use the data-type specific converters pd.to_datetime, pd.to_timedelta and pd.to_numeric.\n",
      "  if __name__ == '__main__':\n"
     ]
    }
   ],
   "source": [
    "swabs[['age_lower', 'age_upper']] = swabs.age_range.str.extract('\\w\\.\\W*(\\d?)\\W*(\\d)').convert_objects(convert_numeric=True)"
   ]
  },
  {
   "cell_type": "code",
   "execution_count": 17,
   "metadata": {},
   "outputs": [],
   "source": [
    "swabs = swabs[swabs.age_upper <= 5]"
   ]
  },
  {
   "cell_type": "markdown",
   "metadata": {},
   "source": [
    "Get total number of swabs by year"
   ]
  },
  {
   "cell_type": "code",
   "execution_count": 18,
   "metadata": {},
   "outputs": [
    {
     "data": {
      "text/plain": [
       "year\n",
       "2001    560\n",
       "2004    810\n",
       "2007    830\n",
       "2009    873\n",
       "2011    889\n",
       "2014    870\n",
       "Name: frequency, dtype: int64"
      ]
     },
     "execution_count": 18,
     "metadata": {},
     "output_type": "execute_result"
    }
   ],
   "source": [
    "total_swabs = swabs.groupby(['year'])['frequency'].sum()\n",
    "total_swabs"
   ]
  },
  {
   "cell_type": "markdown",
   "metadata": {},
   "source": [
    "## Write to JSON files"
   ]
  },
  {
   "cell_type": "markdown",
   "metadata": {},
   "source": [
    "Serotype file"
   ]
  },
  {
   "cell_type": "code",
   "execution_count": 19,
   "metadata": {},
   "outputs": [],
   "source": [
    "serotypes = [s.replace('/', '') for s in counts_by_year[years[0]].index]\n",
    "with open('outputs/serotypes_sparc2.json', 'w') as f: \n",
    "  json.dump({'serotypes': list(serotypes)}, f)"
   ]
  },
  {
   "cell_type": "markdown",
   "metadata": {},
   "source": [
    "Observed counts files, including the count of uncolonized hosts"
   ]
  },
  {
   "cell_type": "code",
   "execution_count": 20,
   "metadata": {},
   "outputs": [],
   "source": [
    "for yr in years:\n",
    "  with open('outputs/observed_counts_sparc2_{}.json'.format(yr), 'w') as f:\n",
    "    num_uncolonized = total_swabs.loc[yr] - counts_by_year[yr].sum()\n",
    "    json.dump({'counts': list(counts_by_year[yr]) + [num_uncolonized]}, f)"
   ]
  },
  {
   "cell_type": "markdown",
   "metadata": {},
   "source": [
    "An initial ranking of serotypes"
   ]
  },
  {
   "cell_type": "code",
   "execution_count": 21,
   "metadata": {},
   "outputs": [],
   "source": [
    "ranks_2001 = counts_by_year[2001].rank(ascending=False)"
   ]
  },
  {
   "cell_type": "code",
   "execution_count": 22,
   "metadata": {},
   "outputs": [],
   "source": [
    "with open('outputs/initial_ranks_sparc2.json', 'w') as f:\n",
    "  json.dump({'ranks': list(ranks_2001)}, f)"
   ]
  },
  {
   "cell_type": "markdown",
   "metadata": {},
   "source": [
    "Serotype-specific immunity. 0.9 for serotype 14, 0.3 for the rest"
   ]
  },
  {
   "cell_type": "code",
   "execution_count": null,
   "metadata": {},
   "outputs": [],
   "source": [
    "sigmas = len(serotypes) * [0.3]\n",
    "sigmas[serotypes.index(\"14\")] = 0.9"
   ]
  },
  {
   "cell_type": "code",
   "execution_count": 29,
   "metadata": {},
   "outputs": [],
   "source": [
    "with open('outputs/sigmas_sparc2.json', 'w') as f:\n",
    "  json.dump({'sigmas': sigmas}, f)"
   ]
  },
  {
   "cell_type": "code",
   "execution_count": null,
   "metadata": {},
   "outputs": [],
   "source": []
  },
  {
   "cell_type": "code",
   "execution_count": null,
   "metadata": {},
   "outputs": [],
   "source": []
  },
  {
   "cell_type": "code",
   "execution_count": null,
   "metadata": {},
   "outputs": [],
   "source": []
  },
  {
   "cell_type": "code",
   "execution_count": null,
   "metadata": {},
   "outputs": [],
   "source": []
  },
  {
   "cell_type": "code",
   "execution_count": null,
   "metadata": {},
   "outputs": [],
   "source": []
  },
  {
   "cell_type": "code",
   "execution_count": null,
   "metadata": {},
   "outputs": [],
   "source": []
  },
  {
   "cell_type": "code",
   "execution_count": null,
   "metadata": {},
   "outputs": [],
   "source": []
  },
  {
   "cell_type": "code",
   "execution_count": null,
   "metadata": {},
   "outputs": [],
   "source": []
  },
  {
   "cell_type": "code",
   "execution_count": null,
   "metadata": {},
   "outputs": [],
   "source": []
  },
  {
   "cell_type": "code",
   "execution_count": null,
   "metadata": {},
   "outputs": [],
   "source": []
  },
  {
   "cell_type": "code",
   "execution_count": null,
   "metadata": {},
   "outputs": [],
   "source": []
  },
  {
   "cell_type": "code",
   "execution_count": null,
   "metadata": {},
   "outputs": [],
   "source": []
  },
  {
   "cell_type": "code",
   "execution_count": null,
   "metadata": {},
   "outputs": [],
   "source": []
  },
  {
   "cell_type": "code",
   "execution_count": null,
   "metadata": {},
   "outputs": [],
   "source": []
  },
  {
   "cell_type": "code",
   "execution_count": null,
   "metadata": {},
   "outputs": [],
   "source": []
  },
  {
   "cell_type": "code",
   "execution_count": null,
   "metadata": {},
   "outputs": [],
   "source": []
  },
  {
   "cell_type": "code",
   "execution_count": null,
   "metadata": {},
   "outputs": [],
   "source": []
  },
  {
   "cell_type": "code",
   "execution_count": null,
   "metadata": {},
   "outputs": [],
   "source": []
  },
  {
   "cell_type": "code",
   "execution_count": null,
   "metadata": {},
   "outputs": [],
   "source": []
  },
  {
   "cell_type": "code",
   "execution_count": null,
   "metadata": {},
   "outputs": [],
   "source": []
  },
  {
   "cell_type": "code",
   "execution_count": null,
   "metadata": {},
   "outputs": [],
   "source": []
  },
  {
   "cell_type": "code",
   "execution_count": null,
   "metadata": {},
   "outputs": [],
   "source": []
  },
  {
   "cell_type": "markdown",
   "metadata": {},
   "source": [
    "Old Version"
   ]
  },
  {
   "cell_type": "code",
   "execution_count": 79,
   "metadata": {},
   "outputs": [
    {
     "data": {
      "text/html": [
       "<div style=\"max-height:1000px;max-width:1500px;overflow:auto;\">\n",
       "<table border=\"1\" class=\"dataframe\">\n",
       "  <thead>\n",
       "    <tr style=\"text-align: right;\">\n",
       "      <th></th>\n",
       "      <th>Observed Prevalence &lt;5</th>\n",
       "      <th>Unnamed: 1</th>\n",
       "      <th>Unnamed: 2</th>\n",
       "      <th>Unnamed: 3</th>\n",
       "      <th>Unnamed: 4</th>\n",
       "      <th>Unnamed: 5</th>\n",
       "      <th>Prevalence &lt;5</th>\n",
       "      <th>Unnamed: 7</th>\n",
       "      <th>Unnamed: 8</th>\n",
       "      <th>Unnamed: 9</th>\n",
       "      <th>...</th>\n",
       "      <th>Expected Carriers 5-6 Vaccinated</th>\n",
       "      <th>Unnamed: 198</th>\n",
       "      <th>Unnamed: 199</th>\n",
       "      <th>Unnamed: 200</th>\n",
       "      <th>Unnamed: 201</th>\n",
       "      <th>Unnamed: 202</th>\n",
       "      <th>Unnamed: 203</th>\n",
       "      <th>Unnamed: 204</th>\n",
       "      <th>Unnamed: 205</th>\n",
       "      <th>Unnamed: 206</th>\n",
       "    </tr>\n",
       "  </thead>\n",
       "  <tbody>\n",
       "    <tr>\n",
       "      <th>Serotype</th>\n",
       "      <td> 2001.000000</td>\n",
       "      <td> 2004.000000</td>\n",
       "      <td> 2007.000000</td>\n",
       "      <td> 2009.000000</td>\n",
       "      <td> 2011.000000</td>\n",
       "      <td> 2014.000000</td>\n",
       "      <td> 2001.000000</td>\n",
       "      <td> 2004.000000</td>\n",
       "      <td> 2007.000000</td>\n",
       "      <td> 2009.000000</td>\n",
       "      <td>...</td>\n",
       "      <td> 2001</td>\n",
       "      <td> 2004</td>\n",
       "      <td> 2007</td>\n",
       "      <td> 2009</td>\n",
       "      <td> 2011</td>\n",
       "      <td> 2014</td>\n",
       "      <td> 2016</td>\n",
       "      <td> 2018</td>\n",
       "      <td> 2020</td>\n",
       "      <td> 2050</td>\n",
       "    </tr>\n",
       "    <tr>\n",
       "      <th>6A</th>\n",
       "      <td>    0.047813</td>\n",
       "      <td>    0.020485</td>\n",
       "      <td>    0.006024</td>\n",
       "      <td>    0.003436</td>\n",
       "      <td>    0.001125</td>\n",
       "      <td>    0.000000</td>\n",
       "      <td>    0.062380</td>\n",
       "      <td>    0.035498</td>\n",
       "      <td>    0.007414</td>\n",
       "      <td>    0.001017</td>\n",
       "      <td>...</td>\n",
       "      <td>    0</td>\n",
       "      <td>    0</td>\n",
       "      <td>    5</td>\n",
       "      <td>    4</td>\n",
       "      <td>    0</td>\n",
       "      <td>    1</td>\n",
       "      <td>    0</td>\n",
       "      <td>    1</td>\n",
       "      <td>    0</td>\n",
       "      <td>    0</td>\n",
       "    </tr>\n",
       "    <tr>\n",
       "      <th>23F</th>\n",
       "      <td>    0.028253</td>\n",
       "      <td>    0.002561</td>\n",
       "      <td>    0.001205</td>\n",
       "      <td>    0.000000</td>\n",
       "      <td>    0.001125</td>\n",
       "      <td>    0.000000</td>\n",
       "      <td>    0.033744</td>\n",
       "      <td>    0.018392</td>\n",
       "      <td>    0.003378</td>\n",
       "      <td>    0.000647</td>\n",
       "      <td>...</td>\n",
       "      <td>    0</td>\n",
       "      <td>    0</td>\n",
       "      <td>    2</td>\n",
       "      <td>    0</td>\n",
       "      <td>    0</td>\n",
       "      <td>    0</td>\n",
       "      <td>    0</td>\n",
       "      <td>    0</td>\n",
       "      <td>    0</td>\n",
       "      <td>    0</td>\n",
       "    </tr>\n",
       "    <tr>\n",
       "      <th>19F</th>\n",
       "      <td>    0.026080</td>\n",
       "      <td>    0.020485</td>\n",
       "      <td>    0.008434</td>\n",
       "      <td>    0.002291</td>\n",
       "      <td>    0.004499</td>\n",
       "      <td>    0.002299</td>\n",
       "      <td>    0.035477</td>\n",
       "      <td>    0.017933</td>\n",
       "      <td>    0.002815</td>\n",
       "      <td>    0.000370</td>\n",
       "      <td>...</td>\n",
       "      <td>    0</td>\n",
       "      <td>    0</td>\n",
       "      <td>    2</td>\n",
       "      <td>    0</td>\n",
       "      <td>    0</td>\n",
       "      <td>    0</td>\n",
       "      <td>    0</td>\n",
       "      <td>    0</td>\n",
       "      <td>    0</td>\n",
       "      <td>    0</td>\n",
       "    </tr>\n",
       "    <tr>\n",
       "      <th>6B</th>\n",
       "      <td>    0.023906</td>\n",
       "      <td>    0.003841</td>\n",
       "      <td>    0.002410</td>\n",
       "      <td>    0.001145</td>\n",
       "      <td>    0.000000</td>\n",
       "      <td>    0.000000</td>\n",
       "      <td>    0.023347</td>\n",
       "      <td>    0.019956</td>\n",
       "      <td>    0.002909</td>\n",
       "      <td>    0.000462</td>\n",
       "      <td>...</td>\n",
       "      <td>    0</td>\n",
       "      <td>    0</td>\n",
       "      <td>    2</td>\n",
       "      <td>    2</td>\n",
       "      <td>    0</td>\n",
       "      <td>    0</td>\n",
       "      <td>    0</td>\n",
       "      <td>    0</td>\n",
       "      <td>    1</td>\n",
       "      <td>    0</td>\n",
       "    </tr>\n",
       "    <tr>\n",
       "      <th>11A</th>\n",
       "      <td>    0.019560</td>\n",
       "      <td>    0.021765</td>\n",
       "      <td>    0.030120</td>\n",
       "      <td>    0.018328</td>\n",
       "      <td>    0.023622</td>\n",
       "      <td>    0.028736</td>\n",
       "      <td>    0.030278</td>\n",
       "      <td>    0.026209</td>\n",
       "      <td>    0.029373</td>\n",
       "      <td>    0.039678</td>\n",
       "      <td>...</td>\n",
       "      <td>    0</td>\n",
       "      <td>    0</td>\n",
       "      <td>   22</td>\n",
       "      <td>   99</td>\n",
       "      <td>   89</td>\n",
       "      <td>  101</td>\n",
       "      <td>   96</td>\n",
       "      <td>  109</td>\n",
       "      <td>  116</td>\n",
       "      <td>  115</td>\n",
       "    </tr>\n",
       "    <tr>\n",
       "      <th>15B/C</th>\n",
       "      <td>    0.017386</td>\n",
       "      <td>    0.020485</td>\n",
       "      <td>    0.032530</td>\n",
       "      <td>    0.033219</td>\n",
       "      <td>    0.056243</td>\n",
       "      <td>    0.048276</td>\n",
       "      <td>    0.015595</td>\n",
       "      <td>    0.021243</td>\n",
       "      <td>    0.024681</td>\n",
       "      <td>    0.035516</td>\n",
       "      <td>...</td>\n",
       "      <td>    0</td>\n",
       "      <td>    0</td>\n",
       "      <td>   15</td>\n",
       "      <td>   94</td>\n",
       "      <td>  111</td>\n",
       "      <td>   59</td>\n",
       "      <td>   70</td>\n",
       "      <td>   98</td>\n",
       "      <td>   91</td>\n",
       "      <td>  109</td>\n",
       "    </tr>\n",
       "    <tr>\n",
       "      <th>19A</th>\n",
       "      <td>    0.015213</td>\n",
       "      <td>    0.032007</td>\n",
       "      <td>    0.050602</td>\n",
       "      <td>    0.045819</td>\n",
       "      <td>    0.038245</td>\n",
       "      <td>    0.010345</td>\n",
       "      <td>    0.010123</td>\n",
       "      <td>    0.012231</td>\n",
       "      <td>    0.024118</td>\n",
       "      <td>    0.037366</td>\n",
       "      <td>...</td>\n",
       "      <td>    0</td>\n",
       "      <td>    0</td>\n",
       "      <td>   22</td>\n",
       "      <td>   94</td>\n",
       "      <td>   93</td>\n",
       "      <td>   13</td>\n",
       "      <td>    2</td>\n",
       "      <td>    0</td>\n",
       "      <td>    0</td>\n",
       "      <td>    0</td>\n",
       "    </tr>\n",
       "    <tr>\n",
       "      <th>35A/B</th>\n",
       "      <td>    0.010867</td>\n",
       "      <td>    0.023045</td>\n",
       "      <td>    0.031325</td>\n",
       "      <td>    0.020619</td>\n",
       "      <td>    0.021372</td>\n",
       "      <td>    0.040230</td>\n",
       "      <td>    0.005928</td>\n",
       "      <td>    0.006805</td>\n",
       "      <td>    0.014640</td>\n",
       "      <td>    0.021550</td>\n",
       "      <td>...</td>\n",
       "      <td>    0</td>\n",
       "      <td>    0</td>\n",
       "      <td>    9</td>\n",
       "      <td>   65</td>\n",
       "      <td>   66</td>\n",
       "      <td>   66</td>\n",
       "      <td>   87</td>\n",
       "      <td>   66</td>\n",
       "      <td>   73</td>\n",
       "      <td>   52</td>\n",
       "    </tr>\n",
       "    <tr>\n",
       "      <th>14</th>\n",
       "      <td>    0.008693</td>\n",
       "      <td>    0.002561</td>\n",
       "      <td>    0.000000</td>\n",
       "      <td>    0.001145</td>\n",
       "      <td>    0.000000</td>\n",
       "      <td>    0.000000</td>\n",
       "      <td>    0.006110</td>\n",
       "      <td>    0.009012</td>\n",
       "      <td>    0.001220</td>\n",
       "      <td>    0.000277</td>\n",
       "      <td>...</td>\n",
       "      <td>    0</td>\n",
       "      <td>    0</td>\n",
       "      <td>    1</td>\n",
       "      <td>    1</td>\n",
       "      <td>    0</td>\n",
       "      <td>    0</td>\n",
       "      <td>    0</td>\n",
       "      <td>    0</td>\n",
       "      <td>    0</td>\n",
       "      <td>    0</td>\n",
       "    </tr>\n",
       "  </tbody>\n",
       "</table>\n",
       "<p>10 rows × 207 columns</p>\n",
       "</div>"
      ],
      "text/plain": [
       "          Observed Prevalence <5   Unnamed: 1   Unnamed: 2   Unnamed: 3  \\\n",
       "Serotype             2001.000000  2004.000000  2007.000000  2009.000000   \n",
       "6A                      0.047813     0.020485     0.006024     0.003436   \n",
       "23F                     0.028253     0.002561     0.001205     0.000000   \n",
       "19F                     0.026080     0.020485     0.008434     0.002291   \n",
       "6B                      0.023906     0.003841     0.002410     0.001145   \n",
       "11A                     0.019560     0.021765     0.030120     0.018328   \n",
       "15B/C                   0.017386     0.020485     0.032530     0.033219   \n",
       "19A                     0.015213     0.032007     0.050602     0.045819   \n",
       "35A/B                   0.010867     0.023045     0.031325     0.020619   \n",
       "14                      0.008693     0.002561     0.000000     0.001145   \n",
       "\n",
       "           Unnamed: 4   Unnamed: 5  Prevalence <5   Unnamed: 7   Unnamed: 8  \\\n",
       "Serotype  2011.000000  2014.000000    2001.000000  2004.000000  2007.000000   \n",
       "6A           0.001125     0.000000       0.062380     0.035498     0.007414   \n",
       "23F          0.001125     0.000000       0.033744     0.018392     0.003378   \n",
       "19F          0.004499     0.002299       0.035477     0.017933     0.002815   \n",
       "6B           0.000000     0.000000       0.023347     0.019956     0.002909   \n",
       "11A          0.023622     0.028736       0.030278     0.026209     0.029373   \n",
       "15B/C        0.056243     0.048276       0.015595     0.021243     0.024681   \n",
       "19A          0.038245     0.010345       0.010123     0.012231     0.024118   \n",
       "35A/B        0.021372     0.040230       0.005928     0.006805     0.014640   \n",
       "14           0.000000     0.000000       0.006110     0.009012     0.001220   \n",
       "\n",
       "           Unnamed: 9     ...       Expected Carriers 5-6 Vaccinated  \\\n",
       "Serotype  2009.000000     ...                                   2001   \n",
       "6A           0.001017     ...                                      0   \n",
       "23F          0.000647     ...                                      0   \n",
       "19F          0.000370     ...                                      0   \n",
       "6B           0.000462     ...                                      0   \n",
       "11A          0.039678     ...                                      0   \n",
       "15B/C        0.035516     ...                                      0   \n",
       "19A          0.037366     ...                                      0   \n",
       "35A/B        0.021550     ...                                      0   \n",
       "14           0.000277     ...                                      0   \n",
       "\n",
       "          Unnamed: 198  Unnamed: 199  Unnamed: 200  Unnamed: 201  \\\n",
       "Serotype          2004          2007          2009          2011   \n",
       "6A                   0             5             4             0   \n",
       "23F                  0             2             0             0   \n",
       "19F                  0             2             0             0   \n",
       "6B                   0             2             2             0   \n",
       "11A                  0            22            99            89   \n",
       "15B/C                0            15            94           111   \n",
       "19A                  0            22            94            93   \n",
       "35A/B                0             9            65            66   \n",
       "14                   0             1             1             0   \n",
       "\n",
       "          Unnamed: 202  Unnamed: 203  Unnamed: 204  Unnamed: 205  Unnamed: 206  \n",
       "Serotype          2014          2016          2018          2020          2050  \n",
       "6A                   1             0             1             0             0  \n",
       "23F                  0             0             0             0             0  \n",
       "19F                  0             0             0             0             0  \n",
       "6B                   0             0             0             1             0  \n",
       "11A                101            96           109           116           115  \n",
       "15B/C               59            70            98            91           109  \n",
       "19A                 13             2             0             0             0  \n",
       "35A/B               66            87            66            73            52  \n",
       "14                   0             0             0             0             0  \n",
       "\n",
       "[10 rows x 207 columns]"
      ]
     },
     "execution_count": 79,
     "metadata": {},
     "output_type": "execute_result"
    }
   ],
   "source": [
    "sparc2 = pd.read_excel('Data Task 3 Mar 10 2015.xlsx', sheetname='post-vaccine carriage (0)')\n",
    "sparc2.head(10)"
   ]
  },
  {
   "cell_type": "code",
   "execution_count": 110,
   "metadata": {},
   "outputs": [],
   "source": [
    "raw_serotypes = np.array(sparc2.index[1:]).astype(str)\n",
    "serotypes = filter(lambda s : s not in invalid, raw_serotypes)"
   ]
  },
  {
   "cell_type": "code",
   "execution_count": 113,
   "metadata": {},
   "outputs": [
    {
     "name": "stdout",
     "output_type": "stream",
     "text": [
      "['6A', '23F', '19F', '6B', '11A', '15B/C', '19A', '35A/B', '14', '22F', '9A', '18C', 'NT', '10', '6C', '9N', '23A', '35F', '23B', '3', '34', '4', '31', '15A', '38', '15F', '29', '25A', '7F', '16F', '33F', '17F', '21', '37', '9V', '7C', '33A', '13', '18F', '36', '20', '24F']\n"
     ]
    }
   ],
   "source": [
    "print serotypes"
   ]
  },
  {
   "cell_type": "code",
   "execution_count": 127,
   "metadata": {},
   "outputs": [],
   "source": [
    "years = (2001, 2004, 2007, 2009, 2011)\n",
    "carriage_under_5 = {}\n",
    "for i, yr in enumerate(years):\n",
    "    carriage_under_5[yr] = list(sparc2.ix[serotypes,i].fillna(0))"
   ]
  },
  {
   "cell_type": "markdown",
   "metadata": {},
   "source": [
    "Write to JSON files"
   ]
  },
  {
   "cell_type": "code",
   "execution_count": 134,
   "metadata": {},
   "outputs": [],
   "source": [
    "with open('sparc2_serotypes.json', 'w') as f:\n",
    "    json.dump({'serotypes': serotypes}, f)"
   ]
  },
  {
   "cell_type": "code",
   "execution_count": null,
   "metadata": {},
   "outputs": [],
   "source": [
    "for yr in years:\n",
    "    with open('sparc2_fake_counts_{}.json'.format(yr)) as f:\n",
    "        json.dump({'})"
   ]
  }
 ],
 "metadata": {
  "kernelspec": {
   "display_name": "Python 3",
   "language": "python",
   "name": "python3"
  },
  "language_info": {
   "codemirror_mode": {
    "name": "ipython",
    "version": 3
   },
   "file_extension": ".py",
   "mimetype": "text/x-python",
   "name": "python",
   "nbconvert_exporter": "python",
   "pygments_lexer": "ipython3",
   "version": "3.6.1"
  }
 },
 "nbformat": 4,
 "nbformat_minor": 1
}
