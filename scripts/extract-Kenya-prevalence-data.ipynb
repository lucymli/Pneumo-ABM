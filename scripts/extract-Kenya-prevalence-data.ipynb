{
 "cells": [
  {
   "cell_type": "code",
   "execution_count": 1,
   "metadata": {},
   "outputs": [
    {
     "name": "stderr",
     "output_type": "stream",
     "text": [
      "/Users/ocsicnarf/Library/Enthought/Canopy_64bit/User/lib/python2.7/site-packages/matplotlib/__init__.py:872: UserWarning: axes.color_cycle is deprecated and replaced with axes.prop_cycle; please use the latter.\n",
      "  warnings.warn(self.msg_depr % (key, alt_key))\n"
     ]
    }
   ],
   "source": [
    "import json\n",
    "import numpy as np\n",
    "import pandas as pd"
   ]
  },
  {
   "cell_type": "markdown",
   "metadata": {},
   "source": [
    "## Load Data"
   ]
  },
  {
   "cell_type": "markdown",
   "metadata": {},
   "source": [
    "### Prevaccine"
   ]
  },
  {
   "cell_type": "markdown",
   "metadata": {},
   "source": [
    "This file contains the number of swabs for each one-month age group."
   ]
  },
  {
   "cell_type": "code",
   "execution_count": 9,
   "metadata": {},
   "outputs": [
    {
     "data": {
      "text/html": [
       "<div>\n",
       "<table border=\"1\" class=\"dataframe\">\n",
       "  <thead>\n",
       "    <tr style=\"text-align: right;\">\n",
       "      <th></th>\n",
       "      <th>agem</th>\n",
       "      <th>denom</th>\n",
       "    </tr>\n",
       "  </thead>\n",
       "  <tbody>\n",
       "    <tr>\n",
       "      <th>54</th>\n",
       "      <td>57</td>\n",
       "      <td>46</td>\n",
       "    </tr>\n",
       "    <tr>\n",
       "      <th>55</th>\n",
       "      <td>58</td>\n",
       "      <td>56</td>\n",
       "    </tr>\n",
       "    <tr>\n",
       "      <th>56</th>\n",
       "      <td>59</td>\n",
       "      <td>50</td>\n",
       "    </tr>\n",
       "    <tr>\n",
       "      <th>57</th>\n",
       "      <td>60</td>\n",
       "      <td>10</td>\n",
       "    </tr>\n",
       "    <tr>\n",
       "      <th>58</th>\n",
       "      <td>65</td>\n",
       "      <td>1</td>\n",
       "    </tr>\n",
       "  </tbody>\n",
       "</table>\n",
       "</div>"
      ],
      "text/plain": [
       "    agem  denom\n",
       "54    57     46\n",
       "55    58     56\n",
       "56    59     50\n",
       "57    60     10\n",
       "58    65      1"
      ]
     },
     "execution_count": 9,
     "metadata": {},
     "output_type": "execute_result"
    }
   ],
   "source": [
    "sample = pd.read_csv(\"data/kenya/sample.csv\")\n",
    "sample.tail()"
   ]
  },
  {
   "cell_type": "markdown",
   "metadata": {},
   "source": [
    "This file has the data about carriers: age (months), serotype sampled, number of individuals"
   ]
  },
  {
   "cell_type": "code",
   "execution_count": 10,
   "metadata": {},
   "outputs": [
    {
     "data": {
      "text/html": [
       "<div>\n",
       "<table border=\"1\" class=\"dataframe\">\n",
       "  <thead>\n",
       "    <tr style=\"text-align: right;\">\n",
       "      <th></th>\n",
       "      <th>agem</th>\n",
       "      <th>serotype</th>\n",
       "      <th>freq</th>\n",
       "    </tr>\n",
       "  </thead>\n",
       "  <tbody>\n",
       "    <tr>\n",
       "      <th>0</th>\n",
       "      <td>3</td>\n",
       "      <td>6A</td>\n",
       "      <td>4</td>\n",
       "    </tr>\n",
       "    <tr>\n",
       "      <th>1</th>\n",
       "      <td>3</td>\n",
       "      <td>6B</td>\n",
       "      <td>3</td>\n",
       "    </tr>\n",
       "    <tr>\n",
       "      <th>2</th>\n",
       "      <td>3</td>\n",
       "      <td>9V</td>\n",
       "      <td>1</td>\n",
       "    </tr>\n",
       "    <tr>\n",
       "      <th>3</th>\n",
       "      <td>3</td>\n",
       "      <td>15C</td>\n",
       "      <td>1</td>\n",
       "    </tr>\n",
       "    <tr>\n",
       "      <th>4</th>\n",
       "      <td>3</td>\n",
       "      <td>19F</td>\n",
       "      <td>4</td>\n",
       "    </tr>\n",
       "  </tbody>\n",
       "</table>\n",
       "</div>"
      ],
      "text/plain": [
       "   agem serotype  freq\n",
       "0     3       6A     4\n",
       "1     3       6B     3\n",
       "2     3       9V     1\n",
       "3     3      15C     1\n",
       "4     3      19F     4"
      ]
     },
     "execution_count": 10,
     "metadata": {},
     "output_type": "execute_result"
    }
   ],
   "source": [
    "serotypes_agem = pd.read_csv(\"data/kenya/serotypes_agem.csv\")\n",
    "serotypes_agem.head()"
   ]
  },
  {
   "cell_type": "markdown",
   "metadata": {},
   "source": [
    "### Postvaccine data source"
   ]
  },
  {
   "cell_type": "markdown",
   "metadata": {},
   "source": [
    "This file has both number of carriers and number of swabbed individuals. U5 means under five, agem is age in months. Null values for serotype indicate that the individual was not colonized."
   ]
  },
  {
   "cell_type": "code",
   "execution_count": 11,
   "metadata": {},
   "outputs": [
    {
     "data": {
      "text/html": [
       "<div>\n",
       "<table border=\"1\" class=\"dataframe\">\n",
       "  <thead>\n",
       "    <tr style=\"text-align: right;\">\n",
       "      <th></th>\n",
       "      <th>serotype</th>\n",
       "      <th>agem</th>\n",
       "      <th>year</th>\n",
       "    </tr>\n",
       "  </thead>\n",
       "  <tbody>\n",
       "    <tr>\n",
       "      <th>0</th>\n",
       "      <td>NaN</td>\n",
       "      <td>10</td>\n",
       "      <td>2009</td>\n",
       "    </tr>\n",
       "    <tr>\n",
       "      <th>1</th>\n",
       "      <td>NaN</td>\n",
       "      <td>1</td>\n",
       "      <td>2009</td>\n",
       "    </tr>\n",
       "    <tr>\n",
       "      <th>2</th>\n",
       "      <td>11A</td>\n",
       "      <td>10</td>\n",
       "      <td>2009</td>\n",
       "    </tr>\n",
       "    <tr>\n",
       "      <th>3</th>\n",
       "      <td>14</td>\n",
       "      <td>11</td>\n",
       "      <td>2009</td>\n",
       "    </tr>\n",
       "    <tr>\n",
       "      <th>4</th>\n",
       "      <td>NaN</td>\n",
       "      <td>7</td>\n",
       "      <td>2009</td>\n",
       "    </tr>\n",
       "  </tbody>\n",
       "</table>\n",
       "</div>"
      ],
      "text/plain": [
       "  serotype  agem  year\n",
       "0      NaN    10  2009\n",
       "1      NaN     1  2009\n",
       "2      11A    10  2009\n",
       "3       14    11  2009\n",
       "4      NaN     7  2009"
      ]
     },
     "execution_count": 11,
     "metadata": {},
     "output_type": "execute_result"
    }
   ],
   "source": [
    "npc = pd.read_csv(\"data/kenya/NPC 2009-2013 U5 serotypes.csv\")\n",
    "npc.head()"
   ]
  },
  {
   "cell_type": "markdown",
   "metadata": {},
   "source": [
    "Check that the maximum age is indeed under 5 fives"
   ]
  },
  {
   "cell_type": "code",
   "execution_count": 13,
   "metadata": {},
   "outputs": [
    {
     "data": {
      "text/plain": [
       "59"
      ]
     },
     "execution_count": 13,
     "metadata": {},
     "output_type": "execute_result"
    }
   ],
   "source": [
    "npc.agem.max()"
   ]
  },
  {
   "cell_type": "markdown",
   "metadata": {},
   "source": [
    "Drop the agem column, we won't be using it"
   ]
  },
  {
   "cell_type": "code",
   "execution_count": 14,
   "metadata": {},
   "outputs": [],
   "source": [
    "npc.drop('agem', axis=1, inplace=True)"
   ]
  },
  {
   "cell_type": "markdown",
   "metadata": {},
   "source": [
    "Get serotypes that appear in prevaccine and/or postvaccine data"
   ]
  },
  {
   "cell_type": "code",
   "execution_count": 15,
   "metadata": {},
   "outputs": [
    {
     "name": "stdout",
     "output_type": "stream",
     "text": [
      "[nan, '1', '10A', '10B', '10F', '11A', '11D', '12B', '12F', '13', '14', '15A', '15B', '15C', '15F', '16F', '17F', '18B', '18C', '18F', '19A', '19B', '19C', '19F', '20', '21', '22A', '22F', '23A', '23B', '23F', '24F', '28A', '28F', '29', '3', '31', '33B', '33C', '33D', '34', '35A', '35B', '35F', '38', '4', '40', '5', '6A', '6B', '7C', '7F', '8', '9A', '9L', '9N', '9V', 'non-typable']\n"
     ]
    }
   ],
   "source": [
    "serotypes = sorted(set(npc.serotype.unique()) | set(serotypes_agem.serotype.unique()))\n",
    "print serotypes"
   ]
  },
  {
   "cell_type": "code",
   "execution_count": 19,
   "metadata": {},
   "outputs": [
    {
     "data": {
      "text/html": [
       "<div>\n",
       "<table border=\"1\" class=\"dataframe\">\n",
       "  <thead>\n",
       "    <tr style=\"text-align: right;\">\n",
       "      <th></th>\n",
       "      <th>agem</th>\n",
       "      <th>serotype</th>\n",
       "      <th>freq</th>\n",
       "    </tr>\n",
       "  </thead>\n",
       "  <tbody>\n",
       "  </tbody>\n",
       "</table>\n",
       "</div>"
      ],
      "text/plain": [
       "Empty DataFrame\n",
       "Columns: [agem, serotype, freq]\n",
       "Index: []"
      ]
     },
     "execution_count": 19,
     "metadata": {},
     "output_type": "execute_result"
    }
   ],
   "source": [
    "serotypes_agem[serotypes_agem.serotype == 'non-typable']"
   ]
  },
  {
   "cell_type": "code",
   "execution_count": 20,
   "metadata": {},
   "outputs": [
    {
     "data": {
      "text/html": [
       "<div>\n",
       "<table border=\"1\" class=\"dataframe\">\n",
       "  <thead>\n",
       "    <tr style=\"text-align: right;\">\n",
       "      <th></th>\n",
       "      <th>agem</th>\n",
       "      <th>serotype</th>\n",
       "      <th>freq</th>\n",
       "    </tr>\n",
       "  </thead>\n",
       "  <tbody>\n",
       "  </tbody>\n",
       "</table>\n",
       "</div>"
      ],
      "text/plain": [
       "Empty DataFrame\n",
       "Columns: [agem, serotype, freq]\n",
       "Index: []"
      ]
     },
     "execution_count": 20,
     "metadata": {},
     "output_type": "execute_result"
    }
   ],
   "source": [
    "serotypes_agem[serotypes_agem.serotype.isnull()]"
   ]
  },
  {
   "cell_type": "code",
   "execution_count": 21,
   "metadata": {},
   "outputs": [
    {
     "data": {
      "text/html": [
       "<div>\n",
       "<table border=\"1\" class=\"dataframe\">\n",
       "  <thead>\n",
       "    <tr style=\"text-align: right;\">\n",
       "      <th></th>\n",
       "      <th>serotype</th>\n",
       "      <th>year</th>\n",
       "    </tr>\n",
       "  </thead>\n",
       "  <tbody>\n",
       "    <tr>\n",
       "      <th>594</th>\n",
       "      <td>non-typable</td>\n",
       "      <td>2012</td>\n",
       "    </tr>\n",
       "    <tr>\n",
       "      <th>655</th>\n",
       "      <td>non-typable</td>\n",
       "      <td>2012</td>\n",
       "    </tr>\n",
       "    <tr>\n",
       "      <th>706</th>\n",
       "      <td>non-typable</td>\n",
       "      <td>2012</td>\n",
       "    </tr>\n",
       "  </tbody>\n",
       "</table>\n",
       "</div>"
      ],
      "text/plain": [
       "        serotype  year\n",
       "594  non-typable  2012\n",
       "655  non-typable  2012\n",
       "706  non-typable  2012"
      ]
     },
     "execution_count": 21,
     "metadata": {},
     "output_type": "execute_result"
    }
   ],
   "source": [
    "npc[npc.serotype == 'non-typable']"
   ]
  },
  {
   "cell_type": "markdown",
   "metadata": {},
   "source": [
    "Remove what are clearly not serotypes"
   ]
  },
  {
   "cell_type": "code",
   "execution_count": 7,
   "metadata": {},
   "outputs": [],
   "source": [
    "serotypes.remove(serotypes[0])\n",
    "serotypes.remove('non-typable')"
   ]
  },
  {
   "cell_type": "code",
   "execution_count": 8,
   "metadata": {},
   "outputs": [
    {
     "name": "stdout",
     "output_type": "stream",
     "text": [
      "['1', '10A', '10B', '10F', '11A', '11D', '12B', '12F', '13', '14', '15A', '15B', '15C', '15F', '16F', '17F', '18B', '18C', '18F', '19A', '19B', '19C', '19F', '20', '21', '22A', '22F', '23A', '23B', '23F', '24F', '28A', '28F', '29', '3', '31', '33B', '33C', '33D', '34', '35A', '35B', '35F', '38', '4', '40', '5', '6A', '6B', '7C', '7F', '8', '9A', '9L', '9N', '9V']\n"
     ]
    }
   ],
   "source": [
    "print serotypes"
   ]
  },
  {
   "cell_type": "code",
   "execution_count": 9,
   "metadata": {},
   "outputs": [],
   "source": [
    "with open('outputs/serotypes_kenya.json', 'w') as f:\n",
    "    json.dump({'serotypes': serotypes}, f)"
   ]
  },
  {
   "cell_type": "markdown",
   "metadata": {},
   "source": [
    "Make this series so that we output everything in the same order"
   ]
  },
  {
   "cell_type": "code",
   "execution_count": 10,
   "metadata": {},
   "outputs": [
    {
     "data": {
      "text/plain": [
       "1      0\n",
       "10A    0\n",
       "10B    0\n",
       "10F    0\n",
       "11A    0\n",
       "dtype: int64"
      ]
     },
     "execution_count": 10,
     "metadata": {},
     "output_type": "execute_result"
    }
   ],
   "source": [
    "zero_counts = pd.Series(0, index=serotypes)\n",
    "zero_counts.head()"
   ]
  },
  {
   "cell_type": "markdown",
   "metadata": {},
   "source": [
    "## Prevaccine"
   ]
  },
  {
   "cell_type": "markdown",
   "metadata": {},
   "source": [
    "Get the total number of samples"
   ]
  },
  {
   "cell_type": "code",
   "execution_count": 11,
   "metadata": {},
   "outputs": [
    {
     "name": "stdout",
     "output_type": "stream",
     "text": [
      "2840 total prevaccine samples\n"
     ]
    }
   ],
   "source": [
    "total_pre = sample.denom.sum()\n",
    "print total_pre, \"total prevaccine samples\""
   ]
  },
  {
   "cell_type": "markdown",
   "metadata": {},
   "source": [
    "Get counts for each serotype"
   ]
  },
  {
   "cell_type": "code",
   "execution_count": 12,
   "metadata": {},
   "outputs": [
    {
     "data": {
      "text/plain": [
       "serotype\n",
       "1      13\n",
       "10A    56\n",
       "10B     3\n",
       "10F     6\n",
       "11A    90\n",
       "Name: freq, dtype: int64"
      ]
     },
     "execution_count": 12,
     "metadata": {},
     "output_type": "execute_result"
    }
   ],
   "source": [
    "counts_pre = serotypes_agem.groupby('serotype').freq.sum().astype(int)\n",
    "counts_pre.head()"
   ]
  },
  {
   "cell_type": "code",
   "execution_count": 13,
   "metadata": {},
   "outputs": [],
   "source": [
    "counts_pre = counts_pre[serotypes].fillna(0).astype(int)\n",
    "assert (counts_pre.index == serotypes).all()"
   ]
  },
  {
   "cell_type": "markdown",
   "metadata": {},
   "source": [
    "Get number of uncolonized"
   ]
  },
  {
   "cell_type": "code",
   "execution_count": 14,
   "metadata": {},
   "outputs": [],
   "source": [
    "uncolonized_pre = total_pre - sum(counts_pre)"
   ]
  },
  {
   "cell_type": "code",
   "execution_count": 15,
   "metadata": {},
   "outputs": [
    {
     "name": "stdout",
     "output_type": "stream",
     "text": [
      "prevaccine prevalence: 0.658\n"
     ]
    }
   ],
   "source": [
    "print 'prevaccine prevalence: {:.3f}'.format(sum(counts_pre) / float(total_pre))"
   ]
  },
  {
   "cell_type": "code",
   "execution_count": 16,
   "metadata": {},
   "outputs": [],
   "source": [
    "with open('outputs/observed_counts_kenya_prevaccine.json', 'w') as f:\n",
    "    json.dump({'counts': list(counts_pre) + [uncolonized_pre]}, f)"
   ]
  },
  {
   "cell_type": "markdown",
   "metadata": {},
   "source": [
    "### Calculate initial ranks"
   ]
  },
  {
   "cell_type": "code",
   "execution_count": 17,
   "metadata": {},
   "outputs": [],
   "source": [
    "ranks_pre = counts_pre.rank(ascending=False)"
   ]
  },
  {
   "cell_type": "code",
   "execution_count": 18,
   "metadata": {},
   "outputs": [],
   "source": [
    "with open('outputs/initial_ranks_kenya.json', 'w') as f:\n",
    "    json.dump({'ranks': list(ranks_pre)}, f)"
   ]
  },
  {
   "cell_type": "markdown",
   "metadata": {},
   "source": [
    "Try a different set of initial ranks"
   ]
  },
  {
   "cell_type": "code",
   "execution_count": 31,
   "metadata": {},
   "outputs": [],
   "source": [
    "ranks_ = counts_pre.rank(ascending=False)\n",
    "ranks_[ranks_ != 1] += 5\n",
    "ranks_[ranks_ > len(ranks_)] = len(ranks_)"
   ]
  },
  {
   "cell_type": "code",
   "execution_count": 36,
   "metadata": {},
   "outputs": [
    {
     "name": "stdout",
     "output_type": "stream",
     "text": [
      "          adjusted  original\n",
      "serotype                    \n",
      "1             31.5      26.5\n",
      "10A           14.0       9.0\n",
      "10B           43.0      38.0\n",
      "10F           36.0      31.0\n",
      "11A           10.0       5.0\n",
      "11D           54.0      49.0\n",
      "12B           48.0      43.0\n",
      "12F           38.0      33.0\n",
      "13            18.5      13.5\n",
      "14            11.0       6.0\n",
      "15A           18.5      13.5\n",
      "15B           15.0      10.0\n",
      "15C           20.0      15.0\n",
      "15F           54.0      49.0\n",
      "16F           22.5      17.5\n",
      "17F           43.0      38.0\n",
      "18B           56.0      55.0\n",
      "18C           24.0      19.0\n",
      "18F           43.0      38.0\n",
      "19A           16.0      11.0\n",
      "19B           25.0      20.0\n",
      "19C           54.0      49.0\n",
      "19F            1.0       1.0\n",
      "20            27.0      22.0\n",
      "21            29.0      24.0\n",
      "22A           43.0      38.0\n",
      "22F           43.0      38.0\n",
      "23A           28.0      23.0\n",
      "23B           13.0       8.0\n",
      "23F            9.0       4.0\n",
      "24F           38.0      33.0\n",
      "28A           54.0      49.0\n",
      "28F           43.0      38.0\n",
      "29            43.0      38.0\n",
      "3             22.5      17.5\n",
      "31            54.0      49.0\n",
      "33B           31.5      26.5\n",
      "33C           54.0      49.0\n",
      "33D           38.0      33.0\n",
      "34            21.0      16.0\n",
      "35A           30.0      25.0\n",
      "35B           12.0       7.0\n",
      "35F           35.0      30.0\n",
      "38            34.0      29.0\n",
      "4             33.0      28.0\n",
      "40            54.0      49.0\n",
      "5             54.0      49.0\n",
      "6A             7.0       2.0\n",
      "6B             8.0       3.0\n",
      "7C            26.0      21.0\n",
      "7F            54.0      49.0\n",
      "8             48.0      43.0\n",
      "9A            56.0      55.0\n",
      "9L            48.0      43.0\n",
      "9N            56.0      55.0\n",
      "9V            17.0      12.0\n"
     ]
    }
   ],
   "source": [
    "print pd.DataFrame({'original': ranks_pre, 'adjusted': ranks_})"
   ]
  },
  {
   "cell_type": "code",
   "execution_count": 37,
   "metadata": {
    "collapsed": true
   },
   "outputs": [],
   "source": [
    "with open('outputs/initial_ranks_kenya_adjusted.json', 'w') as f:\n",
    "    json.dump({'ranks': list(ranks_)}, f)"
   ]
  },
  {
   "cell_type": "markdown",
   "metadata": {},
   "source": [
    "## Postvaccine"
   ]
  },
  {
   "cell_type": "code",
   "execution_count": 20,
   "metadata": {},
   "outputs": [
    {
     "data": {
      "text/plain": [
       "year\n",
       "2008     1\n",
       "2009    73\n",
       "2010    47\n",
       "2011    58\n",
       "2012    37\n",
       "2013    49\n",
       "dtype: int64"
      ]
     },
     "execution_count": 20,
     "metadata": {},
     "output_type": "execute_result"
    }
   ],
   "source": [
    "uncolonized_npc = npc.groupby('year').apply(lambda g: g.serotype.isnull().sum())\n",
    "uncolonized_npc"
   ]
  },
  {
   "cell_type": "markdown",
   "metadata": {},
   "source": [
    "Get counts by year and serotype"
   ]
  },
  {
   "cell_type": "code",
   "execution_count": 21,
   "metadata": {},
   "outputs": [
    {
     "data": {
      "text/plain": [
       "year  serotype\n",
       "2009  1            3\n",
       "      10A          3\n",
       "      11A          6\n",
       "      13           6\n",
       "      14          12\n",
       "dtype: int64"
      ]
     },
     "execution_count": 21,
     "metadata": {},
     "output_type": "execute_result"
    }
   ],
   "source": [
    "counts = npc.groupby([\"year\", \"serotype\"]).size()\n",
    "counts.head()"
   ]
  },
  {
   "cell_type": "code",
   "execution_count": 22,
   "metadata": {},
   "outputs": [],
   "source": [
    "years = counts.index.levels[0]\n",
    "counts_by_year = {}\n",
    "for yr in years:\n",
    "    counts_by_year[yr] = counts.loc[yr][serotypes].fillna(0).astype(int)"
   ]
  },
  {
   "cell_type": "markdown",
   "metadata": {},
   "source": [
    "Double check that serotypes are presented in the same order across years"
   ]
  },
  {
   "cell_type": "code",
   "execution_count": 23,
   "metadata": {},
   "outputs": [],
   "source": [
    "for yr in years:\n",
    "    assert (counts_by_year[years[0]].index == serotypes).all()"
   ]
  },
  {
   "cell_type": "markdown",
   "metadata": {},
   "source": [
    "Write to files"
   ]
  },
  {
   "cell_type": "code",
   "execution_count": 24,
   "metadata": {},
   "outputs": [],
   "source": [
    "for yr in years:\n",
    "    with open('outputs/observed_counts_kenya_{}.json'.format(yr), 'w') as f:\n",
    "        json.dump({'counts': list(counts_by_year[yr]) + [uncolonized_npc[yr]]}, f)"
   ]
  },
  {
   "cell_type": "code",
   "execution_count": null,
   "metadata": {
    "collapsed": true
   },
   "outputs": [],
   "source": []
  },
  {
   "cell_type": "markdown",
   "metadata": {},
   "source": [
    "Serotype-specific immunity. 0.9 for serotype 14, 0.3 for the rest"
   ]
  },
  {
   "cell_type": "code",
   "execution_count": 24,
   "metadata": {},
   "outputs": [],
   "source": [
    "sigmas = len(serotypes) * [0.3]\n",
    "#sigmas[serotypes.index(\"14\")] = 0.9"
   ]
  },
  {
   "cell_type": "code",
   "execution_count": 25,
   "metadata": {},
   "outputs": [],
   "source": [
    "with open('outputs/sigmas_kenya.json', 'w') as f:\n",
    "  json.dump({'sigmas': sigmas}, f)"
   ]
  },
  {
   "cell_type": "code",
   "execution_count": null,
   "metadata": {
    "collapsed": true
   },
   "outputs": [],
   "source": []
  }
 ],
 "metadata": {
  "kernelspec": {
   "display_name": "Python 2",
   "language": "python",
   "name": "python2"
  },
  "language_info": {
   "codemirror_mode": {
    "name": "ipython",
    "version": 2
   },
   "file_extension": ".py",
   "mimetype": "text/x-python",
   "name": "python",
   "nbconvert_exporter": "python",
   "pygments_lexer": "ipython2",
   "version": "2.7.11"
  }
 },
 "nbformat": 4,
 "nbformat_minor": 1
}
